{
 "cells": [
  {
   "cell_type": "code",
   "execution_count": 4,
   "id": "6066aeca",
   "metadata": {},
   "outputs": [],
   "source": [
    "from redis import StrictRedis\n",
    "import json\n",
    "import re\n"
   ]
  },
  {
   "cell_type": "code",
   "execution_count": 5,
   "id": "8c29be3a",
   "metadata": {},
   "outputs": [],
   "source": [
    "redis = StrictRedis(password = \"2921038\")\n",
    "\n",
    "pattern = re.compile(r'[A-Za-z]{3}\\s\\d+?,\\s\\d{4}')\n",
    "def remove_key(dict_ob,key):\n",
    "    if key in dict_ob:\n",
    "        del dict_ob[key]\n",
    "    return dict_ob"
   ]
  },
  {
   "cell_type": "code",
   "execution_count": 10,
   "id": "846bb3e3",
   "metadata": {},
   "outputs": [
    {
     "data": {
      "text/plain": [
       "'{\\n    \"appid\": 920690,\\n    \"name\": \"CardLife: Creative Survival\",\\n    \"developer\": \"Freejam\",\\n    \"publisher\": \"Freejam\",\\n    \"score_rank\": \"\",\\n    \"positive\": 1295,\\n    \"negative\": 788,\\n    \"userscore\": 0,\\n    \"owners\": \"20,000 .. 50,000\",\\n    \"average_forever\": 380,\\n    \"average_2weeks\": 0,\\n    \"median_forever\": 380,\\n    \"median_2weeks\": 0,\\n    \"price\": \"1499\",\\n    \"initialprice\": \"1499\",\\n    \"discount\": \"0\",\\n    \"ccu\": 17,\\n    \"languages\": \"English, French, Italian, German, Spanish - Spain, Japanese, Korean, Portuguese - Brazil, Russian, Simplified Chinese, Traditional Chinese\",\\n    \"genre\": \"Action, Adventure, Indie, Massively Multiplayer, RPG\",\\n    \"tags\": {\\n        \"Survival\": 160,\\n        \"Open World Survival Craft\": 158,\\n        \"Adventure\": 69,\\n        \"Open World\": 67,\\n        \"Massively Multiplayer\": 66,\\n        \"Action\": 61,\\n        \"RPG\": 61,\\n        \"Indie\": 60,\\n        \"Crafting\": 56,\\n        \"Building\": 46,\\n        \"Base-Building\": 43,\\n        \"Online Co-Op\": 38,\\n        \"Fantasy\": 37,\\n        \"Sandbox\": 36,\\n        \"Singleplayer\": 35,\\n        \"Multiplayer\": 33,\\n        \"PvE\": 29,\\n        \"PvP\": 26,\\n        \"Early Access\": 21,\\n        \"Dinosaurs\": 18\\n    },\\n    \"estimated players\": \"238000 \",\\n    \"estimated active players\": \"17000  \",\\n    \"average total playtime\": \"7.5h\",\\n    \"average recent playtime\": \"0.2h\",\\n    \"release_date\": \"Feb 28, 2019\"\\n}'"
      ]
     },
     "execution_count": 10,
     "metadata": {},
     "output_type": "execute_result"
    }
   ],
   "source": [
    "l = redis.keys(\"*\")\n",
    "for i in l:\n",
    "    i = i.decode(\"utf-8\")\n",
    "    value = redis.get(i).decode(\"utf-8\")\n",
    "    data = json.loads(value)\n",
    "#     date = data['release_date']\n",
    "#     m = pattern.match(date)\n",
    "#     if not m:\n",
    "#         redis.delete(i)\n",
    "# json.dumps(data,indent=4)"
   ]
  }
 ],
 "metadata": {
  "kernelspec": {
   "display_name": "Python 3 (ipykernel)",
   "language": "python",
   "name": "python3"
  },
  "language_info": {
   "codemirror_mode": {
    "name": "ipython",
    "version": 3
   },
   "file_extension": ".py",
   "mimetype": "text/x-python",
   "name": "python",
   "nbconvert_exporter": "python",
   "pygments_lexer": "ipython3",
   "version": "3.9.6"
  }
 },
 "nbformat": 4,
 "nbformat_minor": 5
}
